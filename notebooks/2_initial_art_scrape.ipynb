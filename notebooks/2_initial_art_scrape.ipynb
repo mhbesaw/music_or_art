{
 "cells": [
  {
   "cell_type": "markdown",
   "metadata": {},
   "source": [
    "# Initial Art scrape\n",
    "\n",
    "This folder is an offshoot of the music scrape so I could make the 3 column dataframes separately from the problematic scrapes and then merge them together in a new folder.  I didn't think through choosing text heavy posts, but it will be interesting to see if I can still make decent predictions.  I will also try scraping additional days to add more meagre posts, mostly for the title material it seems."
   ]
  },
  {
   "cell_type": "code",
   "execution_count": 1,
   "metadata": {},
   "outputs": [],
   "source": [
    "import requests\n",
    "import time\n",
    "import pandas as pd"
   ]
  },
  {
   "cell_type": "code",
   "execution_count": 2,
   "metadata": {},
   "outputs": [],
   "source": [
    "#get an art reddit url\n",
    "url = 'https://www.reddit.com/r/StreetArt.json'\n",
    "\n",
    "headers ={'User-agent': 'pony-bot'}\n",
    "\n",
    "res =requests.get(url, headers=headers)"
   ]
  },
  {
   "cell_type": "code",
   "execution_count": 5,
   "metadata": {},
   "outputs": [
    {
     "data": {
      "text/plain": [
       "200"
      ]
     },
     "execution_count": 5,
     "metadata": {},
     "output_type": "execute_result"
    }
   ],
   "source": [
    "res.status_code"
   ]
  },
  {
   "cell_type": "code",
   "execution_count": 6,
   "metadata": {},
   "outputs": [],
   "source": [
    "art =res.json()"
   ]
  },
  {
   "cell_type": "code",
   "execution_count": 8,
   "metadata": {},
   "outputs": [],
   "source": [
    "aurl ='https://www.reddit.com/r/StreetArt.json'\n",
    "\n",
    "art_posts =[]\n",
    "after =None\n",
    "for i in range(3000):\n",
    "   # print(i)\n",
    "    if after ==None:\n",
    "        params ={}\n",
    "    else:\n",
    "        params = {'after': after}\n",
    "    res =requests.get(aurl, params =params, headers ={'User-agent': 'pony bot'})\n",
    "    if res.status_code ==200:\n",
    "              \n",
    "        art =res.json()\n",
    "        art_posts.extend(art['data']['children'])\n",
    "        after = art['data']['after']\n",
    "    time.sleep(2)\n",
    "    \n",
    "#print(len(posts))\n",
    "#print(len({posts[i][\"data\"][\"title\"] for i in range(len(posts))}))"
   ]
  },
  {
   "cell_type": "code",
   "execution_count": 115,
   "metadata": {},
   "outputs": [
    {
     "data": {
      "text/plain": [
       "74774"
      ]
     },
     "execution_count": 115,
     "metadata": {},
     "output_type": "execute_result"
    }
   ],
   "source": [
    "len(art_posts)"
   ]
  },
  {
   "cell_type": "code",
   "execution_count": 2,
   "metadata": {},
   "outputs": [],
   "source": [
    "#curious about uniqueness, although this always seems so bad.\n",
    "artlist = []\n",
    "for i in range(74774):\n",
    "    artlist.append(art_posts[i]['data']['name'])\n",
    "print(len(artlist))\n",
    "len(set(artlist))"
   ]
  },
  {
   "cell_type": "code",
   "execution_count": 10,
   "metadata": {},
   "outputs": [],
   "source": [
    "#make a copy just because I am paranoid\n",
    "artlist =art_posts"
   ]
  },
  {
   "cell_type": "code",
   "execution_count": 16,
   "metadata": {},
   "outputs": [],
   "source": [
    "#need to get rid of the 'kind', I need to look at the df to see what is going on.\n",
    "for i in range(len(art_posts)):\n",
    "        art_posts[i] = art_posts[i][\"data\"]"
   ]
  },
  {
   "cell_type": "code",
   "execution_count": 17,
   "metadata": {},
   "outputs": [],
   "source": [
    "#make a df\n",
    "art_df =pd.DataFrame(art_posts)"
   ]
  },
  {
   "cell_type": "code",
   "execution_count": 19,
   "metadata": {},
   "outputs": [
    {
     "data": {
      "text/plain": [
       "(74774, 99)"
      ]
     },
     "execution_count": 19,
     "metadata": {},
     "output_type": "execute_result"
    }
   ],
   "source": [
    "#check the shape, although I'm still scared I messed up the scrape.\n",
    "art_df.shape"
   ]
  },
  {
   "cell_type": "code",
   "execution_count": 30,
   "metadata": {},
   "outputs": [],
   "source": [
    "#export to a csv in case I destroy it.  Sunday morning\n",
    "art_df.to_csv(\"../data/scrapes/art_csv\")"
   ]
  },
  {
   "cell_type": "markdown",
   "metadata": {},
   "source": [
    "# Read back in art csv and condense\n",
    "I went from 74,774 posts to 998 in the snap of a finger, and then to 959 of those being null."
   ]
  },
  {
   "cell_type": "code",
   "execution_count": 87,
   "metadata": {},
   "outputs": [],
   "source": [
    "df =pd.read_csv('../data/scrapes/art_csv')"
   ]
  },
  {
   "cell_type": "code",
   "execution_count": 88,
   "metadata": {
    "scrolled": true
   },
   "outputs": [
    {
     "data": {
      "text/plain": [
       "(74774, 100)"
      ]
     },
     "execution_count": 88,
     "metadata": {},
     "output_type": "execute_result"
    }
   ],
   "source": [
    "#look at the actual titles so I can select the ones I want to view.\n",
    "df.shape"
   ]
  },
  {
   "cell_type": "code",
   "execution_count": 110,
   "metadata": {},
   "outputs": [],
   "source": [
    "#df.name.value_counts()"
   ]
  },
  {
   "cell_type": "code",
   "execution_count": 124,
   "metadata": {},
   "outputs": [
    {
     "data": {
      "text/html": [
       "<div>\n",
       "<style scoped>\n",
       "    .dataframe tbody tr th:only-of-type {\n",
       "        vertical-align: middle;\n",
       "    }\n",
       "\n",
       "    .dataframe tbody tr th {\n",
       "        vertical-align: top;\n",
       "    }\n",
       "\n",
       "    .dataframe thead th {\n",
       "        text-align: right;\n",
       "    }\n",
       "</style>\n",
       "<table border=\"1\" class=\"dataframe\">\n",
       "  <thead>\n",
       "    <tr style=\"text-align: right;\">\n",
       "      <th></th>\n",
       "      <th>Unnamed: 0</th>\n",
       "      <th>approved_at_utc</th>\n",
       "      <th>approved_by</th>\n",
       "      <th>archived</th>\n",
       "      <th>author</th>\n",
       "      <th>author_cakeday</th>\n",
       "      <th>author_flair_background_color</th>\n",
       "      <th>author_flair_css_class</th>\n",
       "      <th>author_flair_richtext</th>\n",
       "      <th>author_flair_template_id</th>\n",
       "      <th>author_flair_text</th>\n",
       "      <th>author_flair_text_color</th>\n",
       "      <th>author_flair_type</th>\n",
       "      <th>author_fullname</th>\n",
       "      <th>author_patreon_flair</th>\n",
       "      <th>banned_at_utc</th>\n",
       "      <th>banned_by</th>\n",
       "      <th>can_gild</th>\n",
       "      <th>can_mod_post</th>\n",
       "      <th>category</th>\n",
       "      <th>clicked</th>\n",
       "      <th>content_categories</th>\n",
       "      <th>contest_mode</th>\n",
       "      <th>created</th>\n",
       "      <th>created_utc</th>\n",
       "      <th>crosspost_parent</th>\n",
       "      <th>crosspost_parent_list</th>\n",
       "      <th>distinguished</th>\n",
       "      <th>domain</th>\n",
       "      <th>downs</th>\n",
       "      <th>edited</th>\n",
       "      <th>gilded</th>\n",
       "      <th>gildings</th>\n",
       "      <th>hidden</th>\n",
       "      <th>hide_score</th>\n",
       "      <th>id</th>\n",
       "      <th>is_crosspostable</th>\n",
       "      <th>is_meta</th>\n",
       "      <th>is_original_content</th>\n",
       "      <th>is_reddit_media_domain</th>\n",
       "      <th>is_robot_indexable</th>\n",
       "      <th>is_self</th>\n",
       "      <th>is_video</th>\n",
       "      <th>likes</th>\n",
       "      <th>link_flair_background_color</th>\n",
       "      <th>link_flair_css_class</th>\n",
       "      <th>link_flair_richtext</th>\n",
       "      <th>link_flair_text</th>\n",
       "      <th>link_flair_text_color</th>\n",
       "      <th>link_flair_type</th>\n",
       "      <th>locked</th>\n",
       "      <th>media</th>\n",
       "      <th>media_embed</th>\n",
       "      <th>media_metadata</th>\n",
       "      <th>media_only</th>\n",
       "      <th>mod_note</th>\n",
       "      <th>mod_reason_by</th>\n",
       "      <th>mod_reason_title</th>\n",
       "      <th>mod_reports</th>\n",
       "      <th>name</th>\n",
       "      <th>no_follow</th>\n",
       "      <th>num_comments</th>\n",
       "      <th>num_crossposts</th>\n",
       "      <th>num_reports</th>\n",
       "      <th>over_18</th>\n",
       "      <th>parent_whitelist_status</th>\n",
       "      <th>permalink</th>\n",
       "      <th>pinned</th>\n",
       "      <th>post_hint</th>\n",
       "      <th>preview</th>\n",
       "      <th>pwls</th>\n",
       "      <th>quarantine</th>\n",
       "      <th>removal_reason</th>\n",
       "      <th>report_reasons</th>\n",
       "      <th>saved</th>\n",
       "      <th>score</th>\n",
       "      <th>secure_media</th>\n",
       "      <th>secure_media_embed</th>\n",
       "      <th>selftext</th>\n",
       "      <th>selftext_html</th>\n",
       "      <th>send_replies</th>\n",
       "      <th>spoiler</th>\n",
       "      <th>stickied</th>\n",
       "      <th>subreddit</th>\n",
       "      <th>subreddit_id</th>\n",
       "      <th>subreddit_name_prefixed</th>\n",
       "      <th>subreddit_subscribers</th>\n",
       "      <th>subreddit_type</th>\n",
       "      <th>suggested_sort</th>\n",
       "      <th>thumbnail</th>\n",
       "      <th>thumbnail_height</th>\n",
       "      <th>thumbnail_width</th>\n",
       "      <th>title</th>\n",
       "      <th>ups</th>\n",
       "      <th>url</th>\n",
       "      <th>user_reports</th>\n",
       "      <th>view_count</th>\n",
       "      <th>visited</th>\n",
       "      <th>whitelist_status</th>\n",
       "      <th>wls</th>\n",
       "      <th>words</th>\n",
       "    </tr>\n",
       "  </thead>\n",
       "  <tbody>\n",
       "    <tr>\n",
       "      <th>0</th>\n",
       "      <td>0</td>\n",
       "      <td>NaN</td>\n",
       "      <td>NaN</td>\n",
       "      <td>False</td>\n",
       "      <td>deportambleme</td>\n",
       "      <td>NaN</td>\n",
       "      <td>NaN</td>\n",
       "      <td>NaN</td>\n",
       "      <td>[]</td>\n",
       "      <td>NaN</td>\n",
       "      <td>NaN</td>\n",
       "      <td>NaN</td>\n",
       "      <td>text</td>\n",
       "      <td>t2_3icqxnkw</td>\n",
       "      <td>False</td>\n",
       "      <td>NaN</td>\n",
       "      <td>NaN</td>\n",
       "      <td>False</td>\n",
       "      <td>False</td>\n",
       "      <td>NaN</td>\n",
       "      <td>False</td>\n",
       "      <td>NaN</td>\n",
       "      <td>False</td>\n",
       "      <td>1.553970e+09</td>\n",
       "      <td>1.553970e+09</td>\n",
       "      <td>NaN</td>\n",
       "      <td>NaN</td>\n",
       "      <td>NaN</td>\n",
       "      <td>i.redd.it</td>\n",
       "      <td>0</td>\n",
       "      <td>False</td>\n",
       "      <td>0</td>\n",
       "      <td>{'gid_1': 0, 'gid_2': 0, 'gid_3': 0}</td>\n",
       "      <td>False</td>\n",
       "      <td>False</td>\n",
       "      <td>b7e92j</td>\n",
       "      <td>False</td>\n",
       "      <td>False</td>\n",
       "      <td>False</td>\n",
       "      <td>True</td>\n",
       "      <td>True</td>\n",
       "      <td>False</td>\n",
       "      <td>False</td>\n",
       "      <td>NaN</td>\n",
       "      <td>NaN</td>\n",
       "      <td>NaN</td>\n",
       "      <td>[]</td>\n",
       "      <td>NaN</td>\n",
       "      <td>dark</td>\n",
       "      <td>text</td>\n",
       "      <td>False</td>\n",
       "      <td>NaN</td>\n",
       "      <td>{}</td>\n",
       "      <td>NaN</td>\n",
       "      <td>False</td>\n",
       "      <td>NaN</td>\n",
       "      <td>NaN</td>\n",
       "      <td>NaN</td>\n",
       "      <td>[]</td>\n",
       "      <td>t3_b7e92j</td>\n",
       "      <td>False</td>\n",
       "      <td>3</td>\n",
       "      <td>0</td>\n",
       "      <td>NaN</td>\n",
       "      <td>False</td>\n",
       "      <td>NaN</td>\n",
       "      <td>/r/streetart/comments/b7e92j/brexcellent/</td>\n",
       "      <td>False</td>\n",
       "      <td>image</td>\n",
       "      <td>{'images': [{'source': {'url': 'https://previe...</td>\n",
       "      <td>NaN</td>\n",
       "      <td>False</td>\n",
       "      <td>NaN</td>\n",
       "      <td>NaN</td>\n",
       "      <td>False</td>\n",
       "      <td>498</td>\n",
       "      <td>NaN</td>\n",
       "      <td>{}</td>\n",
       "      <td>NaN</td>\n",
       "      <td>NaN</td>\n",
       "      <td>True</td>\n",
       "      <td>False</td>\n",
       "      <td>False</td>\n",
       "      <td>streetart</td>\n",
       "      <td>t5_2qvd5</td>\n",
       "      <td>r/streetart</td>\n",
       "      <td>59230</td>\n",
       "      <td>public</td>\n",
       "      <td>NaN</td>\n",
       "      <td>https://b.thumbs.redditmedia.com/l5iQD_sD5Busm...</td>\n",
       "      <td>140.0</td>\n",
       "      <td>140.0</td>\n",
       "      <td>Brexcellent!</td>\n",
       "      <td>498</td>\n",
       "      <td>https://i.redd.it/7fi75cn5tap21.jpg</td>\n",
       "      <td>[]</td>\n",
       "      <td>NaN</td>\n",
       "      <td>False</td>\n",
       "      <td>NaN</td>\n",
       "      <td>NaN</td>\n",
       "      <td>NaN</td>\n",
       "    </tr>\n",
       "    <tr>\n",
       "      <th>1</th>\n",
       "      <td>1</td>\n",
       "      <td>NaN</td>\n",
       "      <td>NaN</td>\n",
       "      <td>False</td>\n",
       "      <td>LIDER26</td>\n",
       "      <td>True</td>\n",
       "      <td>NaN</td>\n",
       "      <td>NaN</td>\n",
       "      <td>[]</td>\n",
       "      <td>NaN</td>\n",
       "      <td>NaN</td>\n",
       "      <td>NaN</td>\n",
       "      <td>text</td>\n",
       "      <td>t2_xp37cb3</td>\n",
       "      <td>False</td>\n",
       "      <td>NaN</td>\n",
       "      <td>NaN</td>\n",
       "      <td>False</td>\n",
       "      <td>False</td>\n",
       "      <td>NaN</td>\n",
       "      <td>False</td>\n",
       "      <td>NaN</td>\n",
       "      <td>False</td>\n",
       "      <td>1.554034e+09</td>\n",
       "      <td>1.554034e+09</td>\n",
       "      <td>NaN</td>\n",
       "      <td>NaN</td>\n",
       "      <td>NaN</td>\n",
       "      <td>youtu.be</td>\n",
       "      <td>0</td>\n",
       "      <td>False</td>\n",
       "      <td>0</td>\n",
       "      <td>{'gid_1': 0, 'gid_2': 0, 'gid_3': 0}</td>\n",
       "      <td>False</td>\n",
       "      <td>False</td>\n",
       "      <td>b7n12p</td>\n",
       "      <td>False</td>\n",
       "      <td>False</td>\n",
       "      <td>False</td>\n",
       "      <td>False</td>\n",
       "      <td>True</td>\n",
       "      <td>False</td>\n",
       "      <td>False</td>\n",
       "      <td>NaN</td>\n",
       "      <td>NaN</td>\n",
       "      <td>NaN</td>\n",
       "      <td>[]</td>\n",
       "      <td>NaN</td>\n",
       "      <td>dark</td>\n",
       "      <td>text</td>\n",
       "      <td>False</td>\n",
       "      <td>{'oembed': {'provider_url': 'https://www.youtu...</td>\n",
       "      <td>{'content': '&amp;lt;iframe width=\"600\" height=\"33...</td>\n",
       "      <td>NaN</td>\n",
       "      <td>False</td>\n",
       "      <td>NaN</td>\n",
       "      <td>NaN</td>\n",
       "      <td>NaN</td>\n",
       "      <td>[]</td>\n",
       "      <td>t3_b7n12p</td>\n",
       "      <td>False</td>\n",
       "      <td>0</td>\n",
       "      <td>0</td>\n",
       "      <td>NaN</td>\n",
       "      <td>False</td>\n",
       "      <td>NaN</td>\n",
       "      <td>/r/streetart/comments/b7n12p/graffiti_lide_yel...</td>\n",
       "      <td>False</td>\n",
       "      <td>rich:video</td>\n",
       "      <td>{'images': [{'source': {'url': 'https://extern...</td>\n",
       "      <td>NaN</td>\n",
       "      <td>False</td>\n",
       "      <td>NaN</td>\n",
       "      <td>NaN</td>\n",
       "      <td>False</td>\n",
       "      <td>7</td>\n",
       "      <td>{'oembed': {'provider_url': 'https://www.youtu...</td>\n",
       "      <td>{'content': '&amp;lt;iframe width=\"600\" height=\"33...</td>\n",
       "      <td>NaN</td>\n",
       "      <td>NaN</td>\n",
       "      <td>True</td>\n",
       "      <td>False</td>\n",
       "      <td>False</td>\n",
       "      <td>streetart</td>\n",
       "      <td>t5_2qvd5</td>\n",
       "      <td>r/streetart</td>\n",
       "      <td>59230</td>\n",
       "      <td>public</td>\n",
       "      <td>NaN</td>\n",
       "      <td>https://b.thumbs.redditmedia.com/ITNWfP8o6XmiG...</td>\n",
       "      <td>105.0</td>\n",
       "      <td>140.0</td>\n",
       "      <td>Graffiti - LIDE - Yellow Letters</td>\n",
       "      <td>7</td>\n",
       "      <td>https://youtu.be/2FCRgjrQ8rw</td>\n",
       "      <td>[]</td>\n",
       "      <td>NaN</td>\n",
       "      <td>False</td>\n",
       "      <td>NaN</td>\n",
       "      <td>NaN</td>\n",
       "      <td>NaN</td>\n",
       "    </tr>\n",
       "  </tbody>\n",
       "</table>\n",
       "</div>"
      ],
      "text/plain": [
       "   Unnamed: 0  approved_at_utc  approved_by  archived         author  \\\n",
       "0           0              NaN          NaN     False  deportambleme   \n",
       "1           1              NaN          NaN     False        LIDER26   \n",
       "\n",
       "  author_cakeday  author_flair_background_color author_flair_css_class  \\\n",
       "0            NaN                            NaN                    NaN   \n",
       "1           True                            NaN                    NaN   \n",
       "\n",
       "  author_flair_richtext author_flair_template_id author_flair_text  \\\n",
       "0                    []                      NaN               NaN   \n",
       "1                    []                      NaN               NaN   \n",
       "\n",
       "  author_flair_text_color author_flair_type author_fullname  \\\n",
       "0                     NaN              text     t2_3icqxnkw   \n",
       "1                     NaN              text      t2_xp37cb3   \n",
       "\n",
       "  author_patreon_flair  banned_at_utc  banned_by  can_gild  can_mod_post  \\\n",
       "0                False            NaN        NaN     False         False   \n",
       "1                False            NaN        NaN     False         False   \n",
       "\n",
       "   category  clicked  content_categories  contest_mode       created  \\\n",
       "0       NaN    False                 NaN         False  1.553970e+09   \n",
       "1       NaN    False                 NaN         False  1.554034e+09   \n",
       "\n",
       "    created_utc crosspost_parent crosspost_parent_list  distinguished  \\\n",
       "0  1.553970e+09              NaN                   NaN            NaN   \n",
       "1  1.554034e+09              NaN                   NaN            NaN   \n",
       "\n",
       "      domain  downs edited  gilded                              gildings  \\\n",
       "0  i.redd.it      0  False       0  {'gid_1': 0, 'gid_2': 0, 'gid_3': 0}   \n",
       "1   youtu.be      0  False       0  {'gid_1': 0, 'gid_2': 0, 'gid_3': 0}   \n",
       "\n",
       "   hidden  hide_score      id  is_crosspostable  is_meta  is_original_content  \\\n",
       "0   False       False  b7e92j             False    False                False   \n",
       "1   False       False  b7n12p             False    False                False   \n",
       "\n",
       "   is_reddit_media_domain  is_robot_indexable  is_self  is_video  likes  \\\n",
       "0                    True                True    False     False    NaN   \n",
       "1                   False                True    False     False    NaN   \n",
       "\n",
       "   link_flair_background_color link_flair_css_class link_flair_richtext  \\\n",
       "0                          NaN                  NaN                  []   \n",
       "1                          NaN                  NaN                  []   \n",
       "\n",
       "  link_flair_text link_flair_text_color link_flair_type  locked  \\\n",
       "0             NaN                  dark            text   False   \n",
       "1             NaN                  dark            text   False   \n",
       "\n",
       "                                               media  \\\n",
       "0                                                NaN   \n",
       "1  {'oembed': {'provider_url': 'https://www.youtu...   \n",
       "\n",
       "                                         media_embed media_metadata  \\\n",
       "0                                                 {}            NaN   \n",
       "1  {'content': '&lt;iframe width=\"600\" height=\"33...            NaN   \n",
       "\n",
       "   media_only  mod_note  mod_reason_by  mod_reason_title mod_reports  \\\n",
       "0       False       NaN            NaN               NaN          []   \n",
       "1       False       NaN            NaN               NaN          []   \n",
       "\n",
       "        name  no_follow  num_comments  num_crossposts  num_reports  over_18  \\\n",
       "0  t3_b7e92j      False             3               0          NaN    False   \n",
       "1  t3_b7n12p      False             0               0          NaN    False   \n",
       "\n",
       "   parent_whitelist_status                                          permalink  \\\n",
       "0                      NaN          /r/streetart/comments/b7e92j/brexcellent/   \n",
       "1                      NaN  /r/streetart/comments/b7n12p/graffiti_lide_yel...   \n",
       "\n",
       "   pinned   post_hint                                            preview  \\\n",
       "0   False       image  {'images': [{'source': {'url': 'https://previe...   \n",
       "1   False  rich:video  {'images': [{'source': {'url': 'https://extern...   \n",
       "\n",
       "   pwls  quarantine  removal_reason  report_reasons  saved  score  \\\n",
       "0   NaN       False             NaN             NaN  False    498   \n",
       "1   NaN       False             NaN             NaN  False      7   \n",
       "\n",
       "                                        secure_media  \\\n",
       "0                                                NaN   \n",
       "1  {'oembed': {'provider_url': 'https://www.youtu...   \n",
       "\n",
       "                                  secure_media_embed selftext selftext_html  \\\n",
       "0                                                 {}      NaN           NaN   \n",
       "1  {'content': '&lt;iframe width=\"600\" height=\"33...      NaN           NaN   \n",
       "\n",
       "   send_replies  spoiler  stickied  subreddit subreddit_id  \\\n",
       "0          True    False     False  streetart     t5_2qvd5   \n",
       "1          True    False     False  streetart     t5_2qvd5   \n",
       "\n",
       "  subreddit_name_prefixed  subreddit_subscribers subreddit_type  \\\n",
       "0             r/streetart                  59230         public   \n",
       "1             r/streetart                  59230         public   \n",
       "\n",
       "   suggested_sort                                          thumbnail  \\\n",
       "0             NaN  https://b.thumbs.redditmedia.com/l5iQD_sD5Busm...   \n",
       "1             NaN  https://b.thumbs.redditmedia.com/ITNWfP8o6XmiG...   \n",
       "\n",
       "   thumbnail_height  thumbnail_width                             title  ups  \\\n",
       "0             140.0            140.0                      Brexcellent!  498   \n",
       "1             105.0            140.0  Graffiti - LIDE - Yellow Letters    7   \n",
       "\n",
       "                                   url user_reports  view_count  visited  \\\n",
       "0  https://i.redd.it/7fi75cn5tap21.jpg           []         NaN    False   \n",
       "1         https://youtu.be/2FCRgjrQ8rw           []         NaN    False   \n",
       "\n",
       "   whitelist_status  wls words  \n",
       "0               NaN  NaN   NaN  \n",
       "1               NaN  NaN   NaN  "
      ]
     },
     "execution_count": 124,
     "metadata": {},
     "output_type": "execute_result"
    }
   ],
   "source": [
    "pd.set_option('max_columns', 200)\n",
    "df.head(2)"
   ]
  },
  {
   "cell_type": "code",
   "execution_count": null,
   "metadata": {},
   "outputs": [],
   "source": [
    "  # dropping duplicte values, name had the highest value count so it seemed safest.\n",
    "df.drop_duplicates(subset =\"name\", inplace = True) "
   ]
  },
  {
   "cell_type": "code",
   "execution_count": 123,
   "metadata": {},
   "outputs": [
    {
     "data": {
      "text/plain": [
       "959"
      ]
     },
     "execution_count": 123,
     "metadata": {},
     "output_type": "execute_result"
    }
   ],
   "source": [
    "#oh no, I have hardly anything to work with.  I'll add the title and then have that text as well\n",
    "df['selftext'].isnull().sum()"
   ]
  },
  {
   "cell_type": "code",
   "execution_count": 129,
   "metadata": {},
   "outputs": [],
   "source": [
    "#make a smaller df with just the post text and the subreddit so I can appent both df together.\n",
    "df_art =pd.DataFrame()\n",
    "df_art['post'] =df['selftext']\n",
    "df_art['title'] =df['title']\n",
    "df_art['subreddit'] =df['subreddit']"
   ]
  },
  {
   "cell_type": "code",
   "execution_count": null,
   "metadata": {},
   "outputs": [],
   "source": [
    "#export this so I can add it to the music dataframe.\n",
    "df_art.to_csv('../data/dfs/art3cols_csv')"
   ]
  },
  {
   "cell_type": "markdown",
   "metadata": {},
   "source": [
    "#### Now from these notebooks I have a dfs to begin modeling in notebook 3."
   ]
  },
  {
   "cell_type": "code",
   "execution_count": null,
   "metadata": {},
   "outputs": [],
   "source": []
  }
 ],
 "metadata": {
  "kernelspec": {
   "display_name": "Python 3",
   "language": "python",
   "name": "python3"
  },
  "language_info": {
   "codemirror_mode": {
    "name": "ipython",
    "version": 3
   },
   "file_extension": ".py",
   "mimetype": "text/x-python",
   "name": "python",
   "nbconvert_exporter": "python",
   "pygments_lexer": "ipython3",
   "version": "3.6.8"
  }
 },
 "nbformat": 4,
 "nbformat_minor": 2
}
