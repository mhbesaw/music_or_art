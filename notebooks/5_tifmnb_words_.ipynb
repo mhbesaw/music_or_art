{
 "cells": [
  {
   "cell_type": "markdown",
   "metadata": {},
   "source": [
    "# Models with full df\n",
    "## Create df with old and new scrapes\n",
    "Read in the dataframnes and improve the model by making an interaction column that combines the title and posts to make a more word heavy column and run a model with and without it."
   ]
  },
  {
   "cell_type": "code",
   "execution_count": null,
   "metadata": {},
   "outputs": [],
   "source": [
    "import pandas as pd"
   ]
  },
  {
   "cell_type": "code",
   "execution_count": 111,
   "metadata": {},
   "outputs": [],
   "source": [
    "#read them in, I'm reading in these that may be the same, I am being safe because I had to copy and paste after \n",
    "#a computer shutdown.\n",
    "o =pd.read_csv('../data/dfs/clean_new_csv.csv')\n",
    "n =pd.read_csv('../data/dfs/clean2_new_csv')\n",
    "#old = pd.read_csv('./clean')\n",
    "old =pd.read_csv('../data/dfs/clean2_old_csv')   #cleaned scrapes from sunday\n",
    "new =pd.read_csv('../data/dfs/clean2_new_csv')   #cleaned scrapes from mond"
   ]
  },
  {
   "cell_type": "code",
   "execution_count": 112,
   "metadata": {},
   "outputs": [
    {
     "data": {
      "text/plain": [
       "(3527, 4)"
      ]
     },
     "execution_count": 112,
     "metadata": {},
     "output_type": "execute_result"
    }
   ],
   "source": [
    "#make a full df\n",
    "data = pd.merge(old, new, how ='outer')\n",
    "data.shape"
   ]
  },
  {
   "cell_type": "code",
   "execution_count": 113,
   "metadata": {},
   "outputs": [
    {
     "data": {
      "text/plain": [
       "Unnamed: 0       0\n",
       "post          3301\n",
       "title            0\n",
       "subreddit        0\n",
       "dtype: int64"
      ]
     },
     "execution_count": 113,
     "metadata": {},
     "output_type": "execute_result"
    }
   ],
   "source": [
    "#fill nulls with empty string.\n",
    "data.isnull().sum()"
   ]
  },
  {
   "cell_type": "code",
   "execution_count": 114,
   "metadata": {},
   "outputs": [],
   "source": [
    "data.fillna('', inplace=True)"
   ]
  },
  {
   "cell_type": "code",
   "execution_count": 115,
   "metadata": {},
   "outputs": [
    {
     "data": {
      "text/plain": [
       "Unnamed: 0    0\n",
       "post          0\n",
       "title         0\n",
       "subreddit     0\n",
       "dtype: int64"
      ]
     },
     "execution_count": 115,
     "metadata": {},
     "output_type": "execute_result"
    }
   ],
   "source": [
    "data.isna().sum()"
   ]
  },
  {
   "cell_type": "code",
   "execution_count": 116,
   "metadata": {},
   "outputs": [
    {
     "data": {
      "text/html": [
       "<div>\n",
       "<style scoped>\n",
       "    .dataframe tbody tr th:only-of-type {\n",
       "        vertical-align: middle;\n",
       "    }\n",
       "\n",
       "    .dataframe tbody tr th {\n",
       "        vertical-align: top;\n",
       "    }\n",
       "\n",
       "    .dataframe thead th {\n",
       "        text-align: right;\n",
       "    }\n",
       "</style>\n",
       "<table border=\"1\" class=\"dataframe\">\n",
       "  <thead>\n",
       "    <tr style=\"text-align: right;\">\n",
       "      <th></th>\n",
       "      <th>Unnamed: 0</th>\n",
       "      <th>post</th>\n",
       "      <th>title</th>\n",
       "      <th>subreddit</th>\n",
       "    </tr>\n",
       "  </thead>\n",
       "  <tbody>\n",
       "    <tr>\n",
       "      <th>0</th>\n",
       "      <td>0</td>\n",
       "      <td></td>\n",
       "      <td>Brexcellent!</td>\n",
       "      <td>1</td>\n",
       "    </tr>\n",
       "    <tr>\n",
       "      <th>1</th>\n",
       "      <td>1</td>\n",
       "      <td></td>\n",
       "      <td>Graffiti - LIDE - Yellow Letters</td>\n",
       "      <td>1</td>\n",
       "    </tr>\n",
       "  </tbody>\n",
       "</table>\n",
       "</div>"
      ],
      "text/plain": [
       "   Unnamed: 0 post                             title  subreddit\n",
       "0           0                           Brexcellent!          1\n",
       "1           1       Graffiti - LIDE - Yellow Letters          1"
      ]
     },
     "execution_count": 116,
     "metadata": {},
     "output_type": "execute_result"
    }
   ],
   "source": [
    "data.head(2)"
   ]
  },
  {
   "cell_type": "code",
   "execution_count": 117,
   "metadata": {},
   "outputs": [
    {
     "data": {
      "text/html": [
       "<div>\n",
       "<style scoped>\n",
       "    .dataframe tbody tr th:only-of-type {\n",
       "        vertical-align: middle;\n",
       "    }\n",
       "\n",
       "    .dataframe tbody tr th {\n",
       "        vertical-align: top;\n",
       "    }\n",
       "\n",
       "    .dataframe thead th {\n",
       "        text-align: right;\n",
       "    }\n",
       "</style>\n",
       "<table border=\"1\" class=\"dataframe\">\n",
       "  <thead>\n",
       "    <tr style=\"text-align: right;\">\n",
       "      <th></th>\n",
       "      <th>Unnamed: 0</th>\n",
       "      <th>post</th>\n",
       "      <th>title</th>\n",
       "      <th>subreddit</th>\n",
       "      <th>words</th>\n",
       "    </tr>\n",
       "  </thead>\n",
       "  <tbody>\n",
       "    <tr>\n",
       "      <th>0</th>\n",
       "      <td>0</td>\n",
       "      <td></td>\n",
       "      <td>Brexcellent!</td>\n",
       "      <td>1</td>\n",
       "      <td>Brexcellent!</td>\n",
       "    </tr>\n",
       "    <tr>\n",
       "      <th>1</th>\n",
       "      <td>1</td>\n",
       "      <td></td>\n",
       "      <td>Graffiti - LIDE - Yellow Letters</td>\n",
       "      <td>1</td>\n",
       "      <td>Graffiti - LIDE - Yellow Letters</td>\n",
       "    </tr>\n",
       "  </tbody>\n",
       "</table>\n",
       "</div>"
      ],
      "text/plain": [
       "   Unnamed: 0 post                             title  subreddit  \\\n",
       "0           0                           Brexcellent!          1   \n",
       "1           1       Graffiti - LIDE - Yellow Letters          1   \n",
       "\n",
       "                              words  \n",
       "0                      Brexcellent!  \n",
       "1  Graffiti - LIDE - Yellow Letters  "
      ]
     },
     "execution_count": 117,
     "metadata": {},
     "output_type": "execute_result"
    }
   ],
   "source": [
    "#combine useful words to one column.\n",
    "data['words'] = data['title'] + data['post']\n",
    "data.head(2)"
   ]
  },
  {
   "cell_type": "code",
   "execution_count": 9,
   "metadata": {},
   "outputs": [],
   "source": [
    "#save to csv\n",
    "data.to_csv('../data/dfs/full_df_csv')"
   ]
  },
  {
   "cell_type": "code",
   "execution_count": 97,
   "metadata": {},
   "outputs": [],
   "source": [
    "#data[['words']].head(2)"
   ]
  },
  {
   "cell_type": "markdown",
   "metadata": {},
   "source": [
    "# Model\n",
    "### Goal, make models of tfidf and mnb of full df['words'] with best params from notebook 3\n",
    "One model with art as the target and the same model with hip hop as the target.\n",
    "I have the baseline percentages here, close to 50/50, stratify anyway.\n",
    "\n",
    "Remember, 1 is Street Art, and 0 is Hip Hop Heads."
   ]
  },
  {
   "cell_type": "code",
   "execution_count": 118,
   "metadata": {},
   "outputs": [],
   "source": [
    "from sklearn.model_selection import GridSearchCV\n",
    "from sklearn.feature_extraction.text import CountVectorizer, TfidfVectorizer\n",
    "from sklearn.model_selection import train_test_split, cross_val_score\n",
    "from sklearn.naive_bayes import MultinomialNB\n",
    "from sklearn.metrics import confusion_matrix\n",
    "from sklearn.linear_model import LogisticRegression\n",
    "from sklearn.pipeline import Pipeline"
   ]
  },
  {
   "cell_type": "code",
   "execution_count": 119,
   "metadata": {},
   "outputs": [
    {
     "data": {
      "text/plain": [
       "1    0.568472\n",
       "0    0.431528\n",
       "Name: subreddit, dtype: float64"
      ]
     },
     "execution_count": 119,
     "metadata": {},
     "output_type": "execute_result"
    }
   ],
   "source": [
    "#Okay, now I have options.  I'll model on the word column first and see if the scores are better than the\n",
    "#pipeline from the previous notebook.\n",
    "value_counts =data.subreddit.value_counts(normalize=True)\n",
    "value_counts"
   ]
  },
  {
   "cell_type": "code",
   "execution_count": 120,
   "metadata": {},
   "outputs": [],
   "source": [
    "#split both and use words, then I'll have title and post separa... never mind.\n",
    "X =data['words']\n",
    "y =data['subreddit']\n",
    "\n",
    "X_train, X_test, y_train, y_test = train_test_split(X, y, test_size=0.25,\n",
    "                                                    random_state=42,\n",
    "                                                    stratify=y)"
   ]
  },
  {
   "cell_type": "code",
   "execution_count": 121,
   "metadata": {},
   "outputs": [],
   "source": [
    "# coming back to remove more stop words\n",
    "from sklearn.feature_extraction import stop_words\n",
    "\n",
    "wordlist =list(stop_words.ENGLISH_STOP_WORDS)\n",
    "wordlist += ['https', 'www', 'x200b', 've', 'll', 'jpg', 'gt', '20', '18', 'com', 'st']"
   ]
  },
  {
   "cell_type": "code",
   "execution_count": 123,
   "metadata": {},
   "outputs": [],
   "source": [
    "#wordlist"
   ]
  },
  {
   "cell_type": "code",
   "execution_count": 124,
   "metadata": {},
   "outputs": [],
   "source": [
    "pipe =Pipeline([\n",
    "    ('tif', TfidfVectorizer(stop_words= wordlist, max_features=1000)),\n",
    "    ('mnb', MultinomialNB())\n",
    "])\n",
    "#gridsearch\n",
    "params ={\n",
    "    'tif__max_df': [.94, .96],\n",
    "    'tif__min_df': [2, 5, 10],\n",
    "    'tif__ngram_range': [(1, 1), (1,3)]\n",
    "}"
   ]
  },
  {
   "cell_type": "code",
   "execution_count": 125,
   "metadata": {},
   "outputs": [
    {
     "name": "stderr",
     "output_type": "stream",
     "text": [
      "/Users/alannabesaw/anaconda3/lib/python3.6/site-packages/sklearn/model_selection/_split.py:2053: FutureWarning: You should specify a value for 'cv' instead of relying on the default value. The default value will change from 3 to 5 in version 0.22.\n",
      "  warnings.warn(CV_WARNING, FutureWarning)\n"
     ]
    },
    {
     "data": {
      "text/plain": [
       "GridSearchCV(cv='warn', error_score='raise-deprecating',\n",
       "       estimator=Pipeline(memory=None,\n",
       "     steps=[('tif', TfidfVectorizer(analyzer='word', binary=False, decode_error='strict',\n",
       "        dtype=<class 'numpy.float64'>, encoding='utf-8', input='content',\n",
       "        lowercase=True, max_df=1.0, max_features=1000, min_df=1,\n",
       "        ngram_range=(1, 1), norm='l2', preprocessor=None, smooth_idf=True,\n",
       " ...rue,\n",
       "        vocabulary=None)), ('mnb', MultinomialNB(alpha=1.0, class_prior=None, fit_prior=True))]),\n",
       "       fit_params=None, iid='warn', n_jobs=None,\n",
       "       param_grid={'tif__max_df': [0.94, 0.96], 'tif__min_df': [2, 5, 10], 'tif__ngram_range': [(1, 1), (1, 3)]},\n",
       "       pre_dispatch='2*n_jobs', refit=True, return_train_score='warn',\n",
       "       scoring=None, verbose=0)"
      ]
     },
     "execution_count": 125,
     "metadata": {},
     "output_type": "execute_result"
    }
   ],
   "source": [
    "gs =GridSearchCV(estimator =pipe, param_grid=params)\n",
    "# Fit model\n",
    "gs.fit(X_train, y_train)"
   ]
  },
  {
   "cell_type": "code",
   "execution_count": 101,
   "metadata": {},
   "outputs": [],
   "source": [
    "###################\n",
    "#tif =TfidfVectorizer(stop_words =wordlist, max_features =1000)"
   ]
  },
  {
   "cell_type": "code",
   "execution_count": 102,
   "metadata": {},
   "outputs": [],
   "source": [
    "###################\n",
    "#tif to df so I can see the words\n",
    "#X_train_tif =pd.DataFrame(tif.fit_transform(X_train).toarray(),\n",
    "#                                columns=tif.get_feature_names())"
   ]
  },
  {
   "cell_type": "code",
   "execution_count": 126,
   "metadata": {},
   "outputs": [],
   "source": [
    "###################\n",
    "#X_train_tif.head(2)"
   ]
  },
  {
   "cell_type": "code",
   "execution_count": 127,
   "metadata": {},
   "outputs": [
    {
     "data": {
      "text/plain": [
       "Pipeline(memory=None,\n",
       "     steps=[('tif', TfidfVectorizer(analyzer='word', binary=False, decode_error='strict',\n",
       "        dtype=<class 'numpy.float64'>, encoding='utf-8', input='content',\n",
       "        lowercase=True, max_df=0.94, max_features=1000, min_df=2,\n",
       "        ngram_range=(1, 1), norm='l2', preprocessor=None, smooth_idf=True,\n",
       "...rue,\n",
       "        vocabulary=None)), ('mnb', MultinomialNB(alpha=1.0, class_prior=None, fit_prior=True))])"
      ]
     },
     "execution_count": 127,
     "metadata": {},
     "output_type": "execute_result"
    }
   ],
   "source": [
    "gs.best_estimator_"
   ]
  },
  {
   "cell_type": "code",
   "execution_count": 18,
   "metadata": {},
   "outputs": [],
   "source": [
    "#art word indicators\n",
    "#most popular words in the post for both subreddits.\n",
    "\n",
    "#poptif = X_train_tif.sum(axis=0)\n",
    "#poptif.sort_values(ascending = False).head(50)"
   ]
  },
  {
   "cell_type": "code",
   "execution_count": 19,
   "metadata": {},
   "outputs": [],
   "source": [
    "#hip hop word indicators\n",
    "\n",
    "#poptif.sort_values(ascending = False).tail(50)"
   ]
  },
  {
   "cell_type": "code",
   "execution_count": 128,
   "metadata": {},
   "outputs": [],
   "source": [
    "#coefs from gs mnb/tif art as the target\n",
    "mnb_art_coefs = pd.DataFrame(gs.best_estimator_.named_steps.mnb.coef_,\n",
    "                            columns = gs.best_estimator_.named_steps.tif.get_feature_names()).T"
   ]
  },
  {
   "cell_type": "code",
   "execution_count": 129,
   "metadata": {},
   "outputs": [],
   "source": [
    "mnb_art_coefs.columns =['Art Coefs']"
   ]
  },
  {
   "cell_type": "code",
   "execution_count": 155,
   "metadata": {},
   "outputs": [
    {
     "data": {
      "text/html": [
       "<div>\n",
       "<style scoped>\n",
       "    .dataframe tbody tr th:only-of-type {\n",
       "        vertical-align: middle;\n",
       "    }\n",
       "\n",
       "    .dataframe tbody tr th {\n",
       "        vertical-align: top;\n",
       "    }\n",
       "\n",
       "    .dataframe thead th {\n",
       "        text-align: right;\n",
       "    }\n",
       "</style>\n",
       "<table border=\"1\" class=\"dataframe\">\n",
       "  <thead>\n",
       "    <tr style=\"text-align: right;\">\n",
       "      <th></th>\n",
       "      <th>Art Coefs</th>\n",
       "    </tr>\n",
       "  </thead>\n",
       "  <tbody>\n",
       "    <tr>\n",
       "      <th>art</th>\n",
       "      <td>-3.457036</td>\n",
       "    </tr>\n",
       "    <tr>\n",
       "      <th>street</th>\n",
       "      <td>-3.490117</td>\n",
       "    </tr>\n",
       "    <tr>\n",
       "      <th>mural</th>\n",
       "      <td>-4.359408</td>\n",
       "    </tr>\n",
       "    <tr>\n",
       "      <th>graffiti</th>\n",
       "      <td>-4.458887</td>\n",
       "    </tr>\n",
       "    <tr>\n",
       "      <th>london</th>\n",
       "      <td>-4.951367</td>\n",
       "    </tr>\n",
       "    <tr>\n",
       "      <th>uk</th>\n",
       "      <td>-5.094248</td>\n",
       "    </tr>\n",
       "    <tr>\n",
       "      <th>spain</th>\n",
       "      <td>-5.095996</td>\n",
       "    </tr>\n",
       "    <tr>\n",
       "      <th>artist</th>\n",
       "      <td>-5.130958</td>\n",
       "    </tr>\n",
       "    <tr>\n",
       "      <th>new</th>\n",
       "      <td>-5.132586</td>\n",
       "    </tr>\n",
       "    <tr>\n",
       "      <th>amp</th>\n",
       "      <td>-5.158147</td>\n",
       "    </tr>\n",
       "    <tr>\n",
       "      <th>wall</th>\n",
       "      <td>-5.160476</td>\n",
       "    </tr>\n",
       "    <tr>\n",
       "      <th>rio</th>\n",
       "      <td>-5.250646</td>\n",
       "    </tr>\n",
       "    <tr>\n",
       "      <th>barcelona</th>\n",
       "      <td>-5.329706</td>\n",
       "    </tr>\n",
       "    <tr>\n",
       "      <th>2019</th>\n",
       "      <td>-5.349676</td>\n",
       "    </tr>\n",
       "    <tr>\n",
       "      <th>piece</th>\n",
       "      <td>-5.365533</td>\n",
       "    </tr>\n",
       "    <tr>\n",
       "      <th>montreal</th>\n",
       "      <td>-5.368758</td>\n",
       "    </tr>\n",
       "    <tr>\n",
       "      <th>portugal</th>\n",
       "      <td>-5.376778</td>\n",
       "    </tr>\n",
       "    <tr>\n",
       "      <th>england</th>\n",
       "      <td>-5.430618</td>\n",
       "    </tr>\n",
       "    <tr>\n",
       "      <th>berlin</th>\n",
       "      <td>-5.439924</td>\n",
       "    </tr>\n",
       "    <tr>\n",
       "      <th>nyc</th>\n",
       "      <td>-5.453134</td>\n",
       "    </tr>\n",
       "    <tr>\n",
       "      <th>oc</th>\n",
       "      <td>-5.505359</td>\n",
       "    </tr>\n",
       "    <tr>\n",
       "      <th>canada</th>\n",
       "      <td>-5.515310</td>\n",
       "    </tr>\n",
       "    <tr>\n",
       "      <th>city</th>\n",
       "      <td>-5.523214</td>\n",
       "    </tr>\n",
       "    <tr>\n",
       "      <th>cologne</th>\n",
       "      <td>-5.533416</td>\n",
       "    </tr>\n",
       "    <tr>\n",
       "      <th>ny</th>\n",
       "      <td>-5.544017</td>\n",
       "    </tr>\n",
       "    <tr>\n",
       "      <th>san</th>\n",
       "      <td>-5.569701</td>\n",
       "    </tr>\n",
       "    <tr>\n",
       "      <th>amazing</th>\n",
       "      <td>-5.580614</td>\n",
       "    </tr>\n",
       "    <tr>\n",
       "      <th>valencia</th>\n",
       "      <td>-5.584138</td>\n",
       "    </tr>\n",
       "    <tr>\n",
       "      <th>2018</th>\n",
       "      <td>-5.587516</td>\n",
       "    </tr>\n",
       "    <tr>\n",
       "      <th>lima</th>\n",
       "      <td>-5.596364</td>\n",
       "    </tr>\n",
       "  </tbody>\n",
       "</table>\n",
       "</div>"
      ],
      "text/plain": [
       "           Art Coefs\n",
       "art        -3.457036\n",
       "street     -3.490117\n",
       "mural      -4.359408\n",
       "graffiti   -4.458887\n",
       "london     -4.951367\n",
       "uk         -5.094248\n",
       "spain      -5.095996\n",
       "artist     -5.130958\n",
       "new        -5.132586\n",
       "amp        -5.158147\n",
       "wall       -5.160476\n",
       "rio        -5.250646\n",
       "barcelona  -5.329706\n",
       "2019       -5.349676\n",
       "piece      -5.365533\n",
       "montreal   -5.368758\n",
       "portugal   -5.376778\n",
       "england    -5.430618\n",
       "berlin     -5.439924\n",
       "nyc        -5.453134\n",
       "oc         -5.505359\n",
       "canada     -5.515310\n",
       "city       -5.523214\n",
       "cologne    -5.533416\n",
       "ny         -5.544017\n",
       "san        -5.569701\n",
       "amazing    -5.580614\n",
       "valencia   -5.584138\n",
       "2018       -5.587516\n",
       "lima       -5.596364"
      ]
     },
     "execution_count": 155,
     "metadata": {},
     "output_type": "execute_result"
    }
   ],
   "source": [
    "#strength of predictors or NOT\n",
    "artplot =mnb_art_coefs.sort_values('Art Coefs', ascending =False)[:30]#[-30:]\n",
    "artplot"
   ]
  },
  {
   "cell_type": "markdown",
   "metadata": {},
   "source": [
    "# Make H-hop the target and see if there is a difference with all ['words']"
   ]
  },
  {
   "cell_type": "code",
   "execution_count": 131,
   "metadata": {},
   "outputs": [],
   "source": [
    "#read back in the df and remap the target to make hhop the 1 and art the 0\n",
    "hhop =pd.read_csv('../data/dfs/full_df_csv')"
   ]
  },
  {
   "cell_type": "code",
   "execution_count": 132,
   "metadata": {},
   "outputs": [
    {
     "data": {
      "text/plain": [
       "(3527, 6)"
      ]
     },
     "execution_count": 132,
     "metadata": {},
     "output_type": "execute_result"
    }
   ],
   "source": [
    "hhop.shape"
   ]
  },
  {
   "cell_type": "code",
   "execution_count": 133,
   "metadata": {},
   "outputs": [
    {
     "data": {
      "text/html": [
       "<div>\n",
       "<style scoped>\n",
       "    .dataframe tbody tr th:only-of-type {\n",
       "        vertical-align: middle;\n",
       "    }\n",
       "\n",
       "    .dataframe tbody tr th {\n",
       "        vertical-align: top;\n",
       "    }\n",
       "\n",
       "    .dataframe thead th {\n",
       "        text-align: right;\n",
       "    }\n",
       "</style>\n",
       "<table border=\"1\" class=\"dataframe\">\n",
       "  <thead>\n",
       "    <tr style=\"text-align: right;\">\n",
       "      <th></th>\n",
       "      <th>Unnamed: 0</th>\n",
       "      <th>Unnamed: 0.1</th>\n",
       "      <th>post</th>\n",
       "      <th>title</th>\n",
       "      <th>subreddit</th>\n",
       "      <th>words</th>\n",
       "    </tr>\n",
       "  </thead>\n",
       "  <tbody>\n",
       "    <tr>\n",
       "      <th>3525</th>\n",
       "      <td>3525</td>\n",
       "      <td>1788</td>\n",
       "      <td>NaN</td>\n",
       "      <td>OliveGreen - Wasabi (Official Music Video)</td>\n",
       "      <td>0</td>\n",
       "      <td>OliveGreen - Wasabi (Official Music Video)</td>\n",
       "    </tr>\n",
       "    <tr>\n",
       "      <th>3526</th>\n",
       "      <td>3526</td>\n",
       "      <td>1789</td>\n",
       "      <td>NaN</td>\n",
       "      <td>Nitembezee - Gabiro Mtu Necessary Ft. Kidis</td>\n",
       "      <td>0</td>\n",
       "      <td>Nitembezee - Gabiro Mtu Necessary Ft. Kidis</td>\n",
       "    </tr>\n",
       "  </tbody>\n",
       "</table>\n",
       "</div>"
      ],
      "text/plain": [
       "      Unnamed: 0  Unnamed: 0.1 post  \\\n",
       "3525        3525          1788  NaN   \n",
       "3526        3526          1789  NaN   \n",
       "\n",
       "                                            title  subreddit  \\\n",
       "3525   OliveGreen - Wasabi (Official Music Video)          0   \n",
       "3526  Nitembezee - Gabiro Mtu Necessary Ft. Kidis          0   \n",
       "\n",
       "                                            words  \n",
       "3525   OliveGreen - Wasabi (Official Music Video)  \n",
       "3526  Nitembezee - Gabiro Mtu Necessary Ft. Kidis  "
      ]
     },
     "execution_count": 133,
     "metadata": {},
     "output_type": "execute_result"
    }
   ],
   "source": [
    "hhop.tail(2)"
   ]
  },
  {
   "cell_type": "code",
   "execution_count": 134,
   "metadata": {},
   "outputs": [
    {
     "data": {
      "text/html": [
       "<div>\n",
       "<style scoped>\n",
       "    .dataframe tbody tr th:only-of-type {\n",
       "        vertical-align: middle;\n",
       "    }\n",
       "\n",
       "    .dataframe tbody tr th {\n",
       "        vertical-align: top;\n",
       "    }\n",
       "\n",
       "    .dataframe thead th {\n",
       "        text-align: right;\n",
       "    }\n",
       "</style>\n",
       "<table border=\"1\" class=\"dataframe\">\n",
       "  <thead>\n",
       "    <tr style=\"text-align: right;\">\n",
       "      <th></th>\n",
       "      <th>Unnamed: 0</th>\n",
       "      <th>Unnamed: 0.1</th>\n",
       "      <th>post</th>\n",
       "      <th>title</th>\n",
       "      <th>subreddit</th>\n",
       "      <th>words</th>\n",
       "    </tr>\n",
       "  </thead>\n",
       "  <tbody>\n",
       "    <tr>\n",
       "      <th>0</th>\n",
       "      <td>0</td>\n",
       "      <td>0</td>\n",
       "      <td>NaN</td>\n",
       "      <td>Brexcellent!</td>\n",
       "      <td>1</td>\n",
       "      <td>Brexcellent!</td>\n",
       "    </tr>\n",
       "  </tbody>\n",
       "</table>\n",
       "</div>"
      ],
      "text/plain": [
       "   Unnamed: 0  Unnamed: 0.1 post         title  subreddit         words\n",
       "0           0             0  NaN  Brexcellent!          1  Brexcellent!"
      ]
     },
     "execution_count": 134,
     "metadata": {},
     "output_type": "execute_result"
    }
   ],
   "source": [
    "hhop.head(1)"
   ]
  },
  {
   "cell_type": "code",
   "execution_count": 135,
   "metadata": {},
   "outputs": [
    {
     "data": {
      "text/html": [
       "<div>\n",
       "<style scoped>\n",
       "    .dataframe tbody tr th:only-of-type {\n",
       "        vertical-align: middle;\n",
       "    }\n",
       "\n",
       "    .dataframe tbody tr th {\n",
       "        vertical-align: top;\n",
       "    }\n",
       "\n",
       "    .dataframe thead th {\n",
       "        text-align: right;\n",
       "    }\n",
       "</style>\n",
       "<table border=\"1\" class=\"dataframe\">\n",
       "  <thead>\n",
       "    <tr style=\"text-align: right;\">\n",
       "      <th></th>\n",
       "      <th>Unnamed: 0</th>\n",
       "      <th>Unnamed: 0.1</th>\n",
       "      <th>post</th>\n",
       "      <th>title</th>\n",
       "      <th>subreddit</th>\n",
       "      <th>words</th>\n",
       "    </tr>\n",
       "  </thead>\n",
       "  <tbody>\n",
       "    <tr>\n",
       "      <th>0</th>\n",
       "      <td>0</td>\n",
       "      <td>0</td>\n",
       "      <td>NaN</td>\n",
       "      <td>Brexcellent!</td>\n",
       "      <td>0</td>\n",
       "      <td>Brexcellent!</td>\n",
       "    </tr>\n",
       "    <tr>\n",
       "      <th>1</th>\n",
       "      <td>1</td>\n",
       "      <td>1</td>\n",
       "      <td>NaN</td>\n",
       "      <td>Graffiti - LIDE - Yellow Letters</td>\n",
       "      <td>0</td>\n",
       "      <td>Graffiti - LIDE - Yellow Letters</td>\n",
       "    </tr>\n",
       "  </tbody>\n",
       "</table>\n",
       "</div>"
      ],
      "text/plain": [
       "   Unnamed: 0  Unnamed: 0.1 post                             title  subreddit  \\\n",
       "0           0             0  NaN                      Brexcellent!          0   \n",
       "1           1             1  NaN  Graffiti - LIDE - Yellow Letters          0   \n",
       "\n",
       "                              words  \n",
       "0                      Brexcellent!  \n",
       "1  Graffiti - LIDE - Yellow Letters  "
      ]
     },
     "execution_count": 135,
     "metadata": {},
     "output_type": "execute_result"
    }
   ],
   "source": [
    "#map 1 for art and 0 for music\n",
    "hhop['subreddit'] =hhop['subreddit'].map({1: 0, 0: 1})\n",
    "hhop.head(2)"
   ]
  },
  {
   "cell_type": "code",
   "execution_count": 136,
   "metadata": {},
   "outputs": [
    {
     "data": {
      "text/html": [
       "<div>\n",
       "<style scoped>\n",
       "    .dataframe tbody tr th:only-of-type {\n",
       "        vertical-align: middle;\n",
       "    }\n",
       "\n",
       "    .dataframe tbody tr th {\n",
       "        vertical-align: top;\n",
       "    }\n",
       "\n",
       "    .dataframe thead th {\n",
       "        text-align: right;\n",
       "    }\n",
       "</style>\n",
       "<table border=\"1\" class=\"dataframe\">\n",
       "  <thead>\n",
       "    <tr style=\"text-align: right;\">\n",
       "      <th></th>\n",
       "      <th>Unnamed: 0</th>\n",
       "      <th>Unnamed: 0.1</th>\n",
       "      <th>post</th>\n",
       "      <th>title</th>\n",
       "      <th>subreddit</th>\n",
       "      <th>words</th>\n",
       "    </tr>\n",
       "  </thead>\n",
       "  <tbody>\n",
       "    <tr>\n",
       "      <th>3525</th>\n",
       "      <td>3525</td>\n",
       "      <td>1788</td>\n",
       "      <td>NaN</td>\n",
       "      <td>OliveGreen - Wasabi (Official Music Video)</td>\n",
       "      <td>1</td>\n",
       "      <td>OliveGreen - Wasabi (Official Music Video)</td>\n",
       "    </tr>\n",
       "    <tr>\n",
       "      <th>3526</th>\n",
       "      <td>3526</td>\n",
       "      <td>1789</td>\n",
       "      <td>NaN</td>\n",
       "      <td>Nitembezee - Gabiro Mtu Necessary Ft. Kidis</td>\n",
       "      <td>1</td>\n",
       "      <td>Nitembezee - Gabiro Mtu Necessary Ft. Kidis</td>\n",
       "    </tr>\n",
       "  </tbody>\n",
       "</table>\n",
       "</div>"
      ],
      "text/plain": [
       "      Unnamed: 0  Unnamed: 0.1 post  \\\n",
       "3525        3525          1788  NaN   \n",
       "3526        3526          1789  NaN   \n",
       "\n",
       "                                            title  subreddit  \\\n",
       "3525   OliveGreen - Wasabi (Official Music Video)          1   \n",
       "3526  Nitembezee - Gabiro Mtu Necessary Ft. Kidis          1   \n",
       "\n",
       "                                            words  \n",
       "3525   OliveGreen - Wasabi (Official Music Video)  \n",
       "3526  Nitembezee - Gabiro Mtu Necessary Ft. Kidis  "
      ]
     },
     "execution_count": 136,
     "metadata": {},
     "output_type": "execute_result"
    }
   ],
   "source": [
    "hhop.tail(2)"
   ]
  },
  {
   "cell_type": "code",
   "execution_count": 137,
   "metadata": {},
   "outputs": [
    {
     "data": {
      "text/plain": [
       "0    0.568472\n",
       "1    0.431528\n",
       "Name: subreddit, dtype: float64"
      ]
     },
     "execution_count": 137,
     "metadata": {},
     "output_type": "execute_result"
    }
   ],
   "source": [
    "#okay, hhop is now the target, so I'll run the model on this one.\n",
    "hhop.subreddit.value_counts(normalize=True)"
   ]
  },
  {
   "cell_type": "code",
   "execution_count": 138,
   "metadata": {},
   "outputs": [],
   "source": [
    "#split both and use words, then I'll have title and post separa... never mind.\n",
    "X =hhop['words']\n",
    "y =hhop['subreddit']\n",
    "X_train, X_test, y_train, y_test = train_test_split(X, y, test_size=0.25,\n",
    "                                                    random_state=42,\n",
    "                                                    stratify=y)"
   ]
  },
  {
   "cell_type": "code",
   "execution_count": 140,
   "metadata": {},
   "outputs": [],
   "source": [
    "hh_pipe =Pipeline([\n",
    "    ('tif', TfidfVectorizer(stop_words=wordlist, max_features=1000)),\n",
    "    ('mnb', MultinomialNB())\n",
    "])\n",
    "#gridsearch\n",
    "params ={\n",
    "    'tif__max_df': [.94, .96],\n",
    "    'tif__min_df': [2, 5, 10],\n",
    "    'tif__ngram_range': [(1, 1), (1,3)]\n",
    "}"
   ]
  },
  {
   "cell_type": "code",
   "execution_count": 141,
   "metadata": {},
   "outputs": [
    {
     "name": "stderr",
     "output_type": "stream",
     "text": [
      "/Users/alannabesaw/anaconda3/lib/python3.6/site-packages/sklearn/model_selection/_split.py:2053: FutureWarning: You should specify a value for 'cv' instead of relying on the default value. The default value will change from 3 to 5 in version 0.22.\n",
      "  warnings.warn(CV_WARNING, FutureWarning)\n"
     ]
    },
    {
     "data": {
      "text/plain": [
       "GridSearchCV(cv='warn', error_score='raise-deprecating',\n",
       "       estimator=Pipeline(memory=None,\n",
       "     steps=[('tif', TfidfVectorizer(analyzer='word', binary=False, decode_error='strict',\n",
       "        dtype=<class 'numpy.float64'>, encoding='utf-8', input='content',\n",
       "        lowercase=True, max_df=1.0, max_features=1000, min_df=1,\n",
       "        ngram_range=(1, 1), norm='l2', preprocessor=None, smooth_idf=True,\n",
       " ...rue,\n",
       "        vocabulary=None)), ('mnb', MultinomialNB(alpha=1.0, class_prior=None, fit_prior=True))]),\n",
       "       fit_params=None, iid='warn', n_jobs=None,\n",
       "       param_grid={'tif__max_df': [0.94, 0.96], 'tif__min_df': [2, 5, 10], 'tif__ngram_range': [(1, 1), (1, 3)]},\n",
       "       pre_dispatch='2*n_jobs', refit=True, return_train_score='warn',\n",
       "       scoring=None, verbose=0)"
      ]
     },
     "execution_count": 141,
     "metadata": {},
     "output_type": "execute_result"
    }
   ],
   "source": [
    "hh_gs =GridSearchCV(estimator =hh_pipe, param_grid=params)\n",
    "\n",
    "# Fit your model\n",
    "hh_gs.fit(X_train, y_train)"
   ]
  },
  {
   "cell_type": "code",
   "execution_count": 142,
   "metadata": {},
   "outputs": [
    {
     "data": {
      "text/plain": [
       "Pipeline(memory=None,\n",
       "     steps=[('tif', TfidfVectorizer(analyzer='word', binary=False, decode_error='strict',\n",
       "        dtype=<class 'numpy.float64'>, encoding='utf-8', input='content',\n",
       "        lowercase=True, max_df=0.94, max_features=1000, min_df=2,\n",
       "        ngram_range=(1, 1), norm='l2', preprocessor=None, smooth_idf=True,\n",
       "...rue,\n",
       "        vocabulary=None)), ('mnb', MultinomialNB(alpha=1.0, class_prior=None, fit_prior=True))])"
      ]
     },
     "execution_count": 142,
     "metadata": {},
     "output_type": "execute_result"
    }
   ],
   "source": [
    "hh_gs.best_estimator_"
   ]
  },
  {
   "cell_type": "code",
   "execution_count": 143,
   "metadata": {},
   "outputs": [],
   "source": [
    "#coefs from gs mnb/tif art as the target\n",
    "mnb_hh_coefs = pd.DataFrame(hh_gs.best_estimator_.named_steps.mnb.coef_,\n",
    "                            columns = hh_gs.best_estimator_.named_steps.tif.get_feature_names()).T"
   ]
  },
  {
   "cell_type": "code",
   "execution_count": 144,
   "metadata": {},
   "outputs": [],
   "source": [
    "mnb_hh_coefs.columns =['HipHop Coefs']"
   ]
  },
  {
   "cell_type": "code",
   "execution_count": 145,
   "metadata": {},
   "outputs": [
    {
     "data": {
      "text/html": [
       "<div>\n",
       "<style scoped>\n",
       "    .dataframe tbody tr th:only-of-type {\n",
       "        vertical-align: middle;\n",
       "    }\n",
       "\n",
       "    .dataframe tbody tr th {\n",
       "        vertical-align: top;\n",
       "    }\n",
       "\n",
       "    .dataframe thead th {\n",
       "        text-align: right;\n",
       "    }\n",
       "</style>\n",
       "<table border=\"1\" class=\"dataframe\">\n",
       "  <thead>\n",
       "    <tr style=\"text-align: right;\">\n",
       "      <th></th>\n",
       "      <th>HipHop Coefs</th>\n",
       "    </tr>\n",
       "  </thead>\n",
       "  <tbody>\n",
       "    <tr>\n",
       "      <th>fresh</th>\n",
       "      <td>-3.096694</td>\n",
       "    </tr>\n",
       "    <tr>\n",
       "      <th>amp</th>\n",
       "      <td>-3.996716</td>\n",
       "    </tr>\n",
       "    <tr>\n",
       "      <th>ft</th>\n",
       "      <td>-4.059070</td>\n",
       "    </tr>\n",
       "    <tr>\n",
       "      <th>video</th>\n",
       "      <td>-4.096751</td>\n",
       "    </tr>\n",
       "    <tr>\n",
       "      <th>feat</th>\n",
       "      <td>-4.237828</td>\n",
       "    </tr>\n",
       "    <tr>\n",
       "      <th>lil</th>\n",
       "      <td>-4.455071</td>\n",
       "    </tr>\n",
       "    <tr>\n",
       "      <th>album</th>\n",
       "      <td>-4.582232</td>\n",
       "    </tr>\n",
       "    <tr>\n",
       "      <th>prod</th>\n",
       "      <td>-4.587742</td>\n",
       "    </tr>\n",
       "    <tr>\n",
       "      <th>official</th>\n",
       "      <td>-4.625011</td>\n",
       "    </tr>\n",
       "    <tr>\n",
       "      <th>music</th>\n",
       "      <td>-4.882610</td>\n",
       "    </tr>\n",
       "    <tr>\n",
       "      <th>original</th>\n",
       "      <td>-5.184382</td>\n",
       "    </tr>\n",
       "    <tr>\n",
       "      <th>ep</th>\n",
       "      <td>-5.316353</td>\n",
       "    </tr>\n",
       "    <tr>\n",
       "      <th>rap</th>\n",
       "      <td>-5.365288</td>\n",
       "    </tr>\n",
       "    <tr>\n",
       "      <th>future</th>\n",
       "      <td>-5.366488</td>\n",
       "    </tr>\n",
       "    <tr>\n",
       "      <th>baby</th>\n",
       "      <td>-5.371713</td>\n",
       "    </tr>\n",
       "    <tr>\n",
       "      <th>big</th>\n",
       "      <td>-5.410763</td>\n",
       "    </tr>\n",
       "    <tr>\n",
       "      <th>da</th>\n",
       "      <td>-5.502462</td>\n",
       "    </tr>\n",
       "    <tr>\n",
       "      <th>freestyle</th>\n",
       "      <td>-5.504221</td>\n",
       "    </tr>\n",
       "    <tr>\n",
       "      <th>don</th>\n",
       "      <td>-5.509766</td>\n",
       "    </tr>\n",
       "    <tr>\n",
       "      <th>new</th>\n",
       "      <td>-5.548869</td>\n",
       "    </tr>\n",
       "    <tr>\n",
       "      <th>nav</th>\n",
       "      <td>-5.692048</td>\n",
       "    </tr>\n",
       "    <tr>\n",
       "      <th>live</th>\n",
       "      <td>-5.701746</td>\n",
       "    </tr>\n",
       "    <tr>\n",
       "      <th>young</th>\n",
       "      <td>-5.770059</td>\n",
       "    </tr>\n",
       "    <tr>\n",
       "      <th>like</th>\n",
       "      <td>-5.780039</td>\n",
       "    </tr>\n",
       "    <tr>\n",
       "      <th>yelawolf</th>\n",
       "      <td>-5.800257</td>\n",
       "    </tr>\n",
       "    <tr>\n",
       "      <th>interview</th>\n",
       "      <td>-5.820155</td>\n",
       "    </tr>\n",
       "    <tr>\n",
       "      <th>hype</th>\n",
       "      <td>-5.824228</td>\n",
       "    </tr>\n",
       "    <tr>\n",
       "      <th>hip</th>\n",
       "      <td>-5.828430</td>\n",
       "    </tr>\n",
       "    <tr>\n",
       "      <th>hop</th>\n",
       "      <td>-5.830806</td>\n",
       "    </tr>\n",
       "    <tr>\n",
       "      <th>jay</th>\n",
       "      <td>-5.839262</td>\n",
       "    </tr>\n",
       "  </tbody>\n",
       "</table>\n",
       "</div>"
      ],
      "text/plain": [
       "           HipHop Coefs\n",
       "fresh         -3.096694\n",
       "amp           -3.996716\n",
       "ft            -4.059070\n",
       "video         -4.096751\n",
       "feat          -4.237828\n",
       "lil           -4.455071\n",
       "album         -4.582232\n",
       "prod          -4.587742\n",
       "official      -4.625011\n",
       "music         -4.882610\n",
       "original      -5.184382\n",
       "ep            -5.316353\n",
       "rap           -5.365288\n",
       "future        -5.366488\n",
       "baby          -5.371713\n",
       "big           -5.410763\n",
       "da            -5.502462\n",
       "freestyle     -5.504221\n",
       "don           -5.509766\n",
       "new           -5.548869\n",
       "nav           -5.692048\n",
       "live          -5.701746\n",
       "young         -5.770059\n",
       "like          -5.780039\n",
       "yelawolf      -5.800257\n",
       "interview     -5.820155\n",
       "hype          -5.824228\n",
       "hip           -5.828430\n",
       "hop           -5.830806\n",
       "jay           -5.839262"
      ]
     },
     "execution_count": 145,
     "metadata": {},
     "output_type": "execute_result"
    }
   ],
   "source": [
    "#strength of predictors or NOT\n",
    "hhopplot =mnb_hh_coefs.sort_values('HipHop Coefs', ascending =False)[:30]#[-30:]\n",
    "hhopplot"
   ]
  },
  {
   "cell_type": "markdown",
   "metadata": {},
   "source": [
    "The coefficient tables are similar, but not very different."
   ]
  },
  {
   "cell_type": "markdown",
   "metadata": {},
   "source": [
    "# Coefficient Plots"
   ]
  },
  {
   "cell_type": "code",
   "execution_count": 199,
   "metadata": {},
   "outputs": [],
   "source": [
    "import seaborn as sns\n",
    "import matplotlib.pyplot as plt\n",
    "%matplotlib inline"
   ]
  },
  {
   "cell_type": "code",
   "execution_count": 157,
   "metadata": {},
   "outputs": [
    {
     "data": {
      "image/png": "[encoded data removed]",
      "text/plain": [
       "<Figure size 504x648 with 1 Axes>"
      ]
     },
     "metadata": {
      "needs_background": "light"
     },
     "output_type": "display_data"
    }
   ],
   "source": [
    "fig, ax = plt.subplots(figsize=(7,9))\n",
    "sns.barplot(x=artplot[\"Art Coefs\"], y=artplot.index, orient=\"h\", color=\"white\", edgecolor ='c')\n",
    "ax.set_title(\"Art Coefficients, Multinomial NB and TFIDF\");"
   ]
  },
  {
   "cell_type": "code",
   "execution_count": 167,
   "metadata": {},
   "outputs": [
    {
     "data": {
      "image/png": "[encoded data removed]",
      "text/plain": [
       "<Figure size 504x648 with 1 Axes>"
      ]
     },
     "metadata": {
      "needs_background": "light"
     },
     "output_type": "display_data"
    }
   ],
   "source": [
    "fig, ax = plt.subplots(figsize=(7,9))\n",
    "sns.barplot(x=hhopplot[\"HipHop Coefs\"], y=hhopplot.index, orient=\"h\", color=\"white\", edgecolor ='m')\n",
    "ax.set_title(\"HipHop Coefs, Multinomial NB and TFIDF\");"
   ]
  },
  {
   "cell_type": "markdown",
   "metadata": {},
   "source": [
    "# interactive probability!\n",
    "With the target 1 as hip hop as opposed to art."
   ]
  },
  {
   "cell_type": "code",
   "execution_count": 211,
   "metadata": {},
   "outputs": [
    {
     "data": {
      "text/plain": [
       "array([[0.5103306, 0.4896694]])"
      ]
     },
     "execution_count": 211,
     "metadata": {},
     "output_type": "execute_result"
    }
   ],
   "source": [
    "hh_gs.predict_proba(['Colorless green ideas sleep furiously'])"
   ]
  },
  {
   "cell_type": "code",
   "execution_count": 195,
   "metadata": {},
   "outputs": [],
   "source": [
    "#hip hop is 1\n",
    "def grapher(sentence):\n",
    "    return hh_gs.predict_proba([sentence])[0][0]"
   ]
  },
  {
   "cell_type": "code",
   "execution_count": 196,
   "metadata": {},
   "outputs": [],
   "source": [
    "#xxxxx.plot(kind=\"bar\", color=\"green\")"
   ]
  },
  {
   "cell_type": "code",
   "execution_count": 197,
   "metadata": {},
   "outputs": [
    {
     "data": {
      "text/plain": [
       "0.5686200378071834"
      ]
     },
     "execution_count": 197,
     "metadata": {},
     "output_type": "execute_result"
    }
   ],
   "source": [
    "grapher('ponies in the field whinny and neigh')"
   ]
  },
  {
   "cell_type": "code",
   "execution_count": 210,
   "metadata": {},
   "outputs": [
    {
     "data": {
      "text/plain": [
       "0.5686200378071834"
      ]
     },
     "execution_count": 210,
     "metadata": {},
     "output_type": "execute_result"
    }
   ],
   "source": [
    "str = [\"Something about mountains\"]\n",
    "hh_gs.predict_proba(str)[0][0]"
   ]
  },
  {
   "cell_type": "code",
   "execution_count": 236,
   "metadata": {},
   "outputs": [
    {
     "data": {
      "image/png": "[encoded data removed]",
      "text/plain": [
       "<Figure size 576x2160 with 1 Axes>"
      ]
     },
     "metadata": {
      "needs_background": "light"
     },
     "output_type": "display_data"
    }
   ],
   "source": [
    "#Derek helped me with this formatting for my function, from his ames project.\n",
    "str = [\"There ain't no party like a west coast party!\"]\n",
    "\n",
    "# Code adapted from data viz lecture\n",
    "plt.figure(figsize=(8, 30))\n",
    "\n",
    "plt.text(x = 0.5,                       \n",
    "         y = 0.8,                  \n",
    "         s = f\"Your given string ({str})...\",\n",
    "         ha = 'center',                     \n",
    "         va = 'center',                    \n",
    "         size = 30,\n",
    "         alpha = 0.6)                     \n",
    "          \n",
    "if hh_gs.predict_proba(str)[0][0] >= 0.5:\n",
    "    plt.text(x = 0.5,\n",
    "             y = 0.5,\n",
    "             s = f\"is a masterpiece of street art!\",\n",
    "             ha = 'center',\n",
    "             va = 'center',\n",
    "             size = 100,\n",
    "             alpha = 1,\n",
    "             color ='g')\n",
    "else: \n",
    "    plt.text(x = 0.5,\n",
    "             y = 0.5,\n",
    "             s = f\"it's time to get down!\",\n",
    "             ha = 'center',\n",
    "             va = 'center',\n",
    "             size = 100,\n",
    "             alpha = 1,\n",
    "             color ='c')      \n",
    "plt.axis('off');"
   ]
  },
  {
   "cell_type": "code",
   "execution_count": 161,
   "metadata": {},
   "outputs": [
    {
     "data": {
      "text/plain": [
       "array([[0.50919507, 0.49080493]])"
      ]
     },
     "execution_count": 161,
     "metadata": {},
     "output_type": "execute_result"
    }
   ],
   "source": [
    "grapher('''Yet our best trained, best educated, best equipped, best prepared troops refuse to fight. As a \n",
    "    matter of fact, it’s safe to say that they would rather switch than fight 1989 the number another summer \n",
    "    get down Sound of the funky drummer Music hitting your heart cause I know you got soul (Brothers and \n",
    "    sisters, hey) Listen if youre missing yall Swinging while Im singing Giving whatcha getting Knowing what \n",
    "    I know While the Black bands sweatin And the rhythm rhymes rollin Got to give us what we want (uh) Gotta \n",
    "    give us what we need (hey) Our freedom of speech is freedom or death We got to fight the powers that be \n",
    "    Lemme hear you say Fight the power (lemme hear you say) Fight the power Fight the power Fight the power\n",
    "    Fight the power Fight the power''')"
   ]
  },
  {
   "cell_type": "code",
   "execution_count": 162,
   "metadata": {},
   "outputs": [
    {
     "data": {
      "text/plain": [
       "array([[0.60334622, 0.39665378]])"
      ]
     },
     "execution_count": 162,
     "metadata": {},
     "output_type": "execute_result"
    }
   ],
   "source": [
    "grapher('In and around the lake, mountains come out of the sky and they stand there')"
   ]
  },
  {
   "cell_type": "code",
   "execution_count": 163,
   "metadata": {},
   "outputs": [
    {
     "data": {
      "text/plain": [
       "array([[0.01404857, 0.98595143]])"
      ]
     },
     "execution_count": 163,
     "metadata": {},
     "output_type": "execute_result"
    }
   ],
   "source": [
    "grapher('eminem feat ep')"
   ]
  },
  {
   "cell_type": "code",
   "execution_count": 164,
   "metadata": {},
   "outputs": [
    {
     "data": {
      "text/plain": [
       "array([[0.68535638, 0.31464362]])"
      ]
     },
     "execution_count": 164,
     "metadata": {},
     "output_type": "execute_result"
    }
   ],
   "source": [
    "grapher('i took a long walk in the sunshine today')"
   ]
  },
  {
   "cell_type": "code",
   "execution_count": 166,
   "metadata": {},
   "outputs": [
    {
     "data": {
      "text/plain": [
       "array([[0.99855971, 0.00144029]])"
      ]
     },
     "execution_count": 166,
     "metadata": {},
     "output_type": "execute_result"
    }
   ],
   "source": [
    "grapher('graffiti street art')"
   ]
  },
  {
   "cell_type": "markdown",
   "metadata": {},
   "source": [
    "# Evaluation\n",
    "This is getting into interesting territory, it is outside the project but I think it is a simple and elegant idea that if I had known was possible from the beginning may have informed my subreddit choices to be something more universal.  However, it still is an actual example of topic modeling, so it's neat that here is a real interactive interpretation from data from one moment in time.  And not even that thoroughly cleaned, it still makes sense.  \"this is what the topic may be\", and in notebook 6 there is more with other subreddits that were the catalyst for this idea."
   ]
  },
  {
   "cell_type": "code",
   "execution_count": null,
   "metadata": {},
   "outputs": [],
   "source": []
  }
 ],
 "metadata": {
  "kernelspec": {
   "display_name": "Python 3",
   "language": "python",
   "name": "python3"
  },
  "language_info": {
   "codemirror_mode": {
    "name": "ipython",
    "version": 3
   },
   "file_extension": ".py",
   "mimetype": "text/x-python",
   "name": "python",
   "nbconvert_exporter": "python",
   "pygments_lexer": "ipython3",
   "version": "3.6.8"
  }
 },
 "nbformat": 4,
 "nbformat_minor": 2
}
